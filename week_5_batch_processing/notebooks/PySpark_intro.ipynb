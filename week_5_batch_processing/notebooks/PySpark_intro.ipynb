{
 "cells": [
  {
   "cell_type": "code",
   "execution_count": 25,
   "id": "4030b560",
   "metadata": {},
   "outputs": [],
   "source": [
    "import pyspark\n",
    "import pandas as pd\n",
    "from pyspark.sql import SparkSession"
   ]
  },
  {
   "cell_type": "code",
   "execution_count": 2,
   "id": "911cdde1",
   "metadata": {},
   "outputs": [
    {
     "name": "stderr",
     "output_type": "stream",
     "text": [
      "WARNING: An illegal reflective access operation has occurred\n",
      "WARNING: Illegal reflective access by org.apache.spark.unsafe.Platform (file:/opt/homebrew/lib/python3.9/site-packages/pyspark/jars/spark-unsafe_2.12-3.2.1.jar) to constructor java.nio.DirectByteBuffer(long,int)\n",
      "WARNING: Please consider reporting this to the maintainers of org.apache.spark.unsafe.Platform\n",
      "WARNING: Use --illegal-access=warn to enable warnings of further illegal reflective access operations\n",
      "WARNING: All illegal access operations will be denied in a future release\n",
      "Using Spark's default log4j profile: org/apache/spark/log4j-defaults.properties\n",
      "Setting default log level to \"WARN\".\n",
      "To adjust logging level use sc.setLogLevel(newLevel). For SparkR, use setLogLevel(newLevel).\n",
      "22/02/22 22:02:30 WARN NativeCodeLoader: Unable to load native-hadoop library for your platform... using builtin-java classes where applicable\n"
     ]
    }
   ],
   "source": [
    "spark = SparkSession.builder \\\n",
    "    .master('local[*]') \\\n",
    "    .appName('test') \\\n",
    "    .getOrCreate()"
   ]
  },
  {
   "cell_type": "code",
   "execution_count": 12,
   "id": "3f12f1e0",
   "metadata": {},
   "outputs": [
    {
     "name": "stdout",
     "output_type": "stream",
     "text": [
      "--2022-02-22 22:13:44--  https://nyc-tlc.s3.amazonaws.com/trip+data/fhvhv_tripdata_2021-01.csv\n",
      "Resolving nyc-tlc.s3.amazonaws.com (nyc-tlc.s3.amazonaws.com)... 52.216.106.67\n",
      "Connecting to nyc-tlc.s3.amazonaws.com (nyc-tlc.s3.amazonaws.com)|52.216.106.67|:443... connected.\n",
      "HTTP request sent, awaiting response... 200 OK\n",
      "Length: 752335705 (717M) [text/csv]\n",
      "Saving to: ‘fhvhv_tripdata_2021-01.csv’\n",
      "\n",
      "fhvhv_tripdata_2021 100%[===================>] 717.48M  26.7MB/s    in 18s     \n",
      "\n",
      "2022-02-22 22:14:02 (40.0 MB/s) - ‘fhvhv_tripdata_2021-01.csv’ saved [752335705/752335705]\n",
      "\n"
     ]
    }
   ],
   "source": [
    "!wget https://nyc-tlc.s3.amazonaws.com/trip+data/fhvhv_tripdata_2021-01.csv"
   ]
  },
  {
   "cell_type": "code",
   "execution_count": 13,
   "id": "4217be10",
   "metadata": {},
   "outputs": [
    {
     "name": "stdout",
     "output_type": "stream",
     "text": [
      " 11908469 fhvhv_tripdata_2021-01.csv\r\n"
     ]
    }
   ],
   "source": [
    "!wc -l fhvhv_tripdata_2021-01.csv"
   ]
  },
  {
   "cell_type": "code",
   "execution_count": 15,
   "id": "2a0e3704",
   "metadata": {},
   "outputs": [],
   "source": [
    "df = spark.read \\\n",
    "    .option(\"header\", \"true\") \\\n",
    "    .csv('fhvhv_tripdata_2021-01.csv')"
   ]
  },
  {
   "cell_type": "code",
   "execution_count": 18,
   "id": "d32c6da3",
   "metadata": {},
   "outputs": [
    {
     "data": {
      "text/plain": [
       "StructType(List(StructField(hvfhs_license_num,StringType,true),StructField(dispatching_base_num,StringType,true),StructField(pickup_datetime,StringType,true),StructField(dropoff_datetime,StringType,true),StructField(PULocationID,StringType,true),StructField(DOLocationID,StringType,true),StructField(SR_Flag,StringType,true)))"
      ]
     },
     "execution_count": 18,
     "metadata": {},
     "output_type": "execute_result"
    }
   ],
   "source": [
    "df.schema"
   ]
  },
  {
   "cell_type": "code",
   "execution_count": 23,
   "id": "75fb39d5",
   "metadata": {},
   "outputs": [],
   "source": [
    "!head -n 1001 fhvhv_tripdata_2021-01.csv > head.csv"
   ]
  },
  {
   "cell_type": "code",
   "execution_count": 22,
   "id": "5bcc65e4",
   "metadata": {},
   "outputs": [
    {
     "name": "stdout",
     "output_type": "stream",
     "text": [
      "     101 head.csv\r\n"
     ]
    }
   ],
   "source": [
    "!wc -l head.csv"
   ]
  },
  {
   "cell_type": "code",
   "execution_count": 26,
   "id": "d6c1a5ef",
   "metadata": {},
   "outputs": [],
   "source": [
    "df_pandas = pd.read_csv('head.csv')"
   ]
  },
  {
   "cell_type": "code",
   "execution_count": 27,
   "id": "31d77c3b",
   "metadata": {},
   "outputs": [
    {
     "data": {
      "text/plain": [
       "hvfhs_license_num        object\n",
       "dispatching_base_num     object\n",
       "pickup_datetime          object\n",
       "dropoff_datetime         object\n",
       "PULocationID              int64\n",
       "DOLocationID              int64\n",
       "SR_Flag                 float64\n",
       "dtype: object"
      ]
     },
     "execution_count": 27,
     "metadata": {},
     "output_type": "execute_result"
    }
   ],
   "source": [
    "df_pandas.dtypes"
   ]
  },
  {
   "cell_type": "code",
   "execution_count": 33,
   "id": "bcf370b9",
   "metadata": {},
   "outputs": [
    {
     "data": {
      "text/plain": [
       "StructType(List(StructField(hvfhs_license_num,StringType,true),StructField(dispatching_base_num,StringType,true),StructField(pickup_datetime,StringType,true),StructField(dropoff_datetime,StringType,true),StructField(PULocationID,LongType,true),StructField(DOLocationID,LongType,true),StructField(SR_Flag,DoubleType,true)))"
      ]
     },
     "execution_count": 33,
     "metadata": {},
     "output_type": "execute_result"
    }
   ],
   "source": [
    "spark.createDataFrame(df_pandas).schema"
   ]
  },
  {
   "cell_type": "code",
   "execution_count": 34,
   "id": "dededbe5",
   "metadata": {},
   "outputs": [],
   "source": [
    "from pyspark.sql import types"
   ]
  },
  {
   "cell_type": "code",
   "execution_count": 38,
   "id": "99b7127e",
   "metadata": {},
   "outputs": [],
   "source": [
    "schema = types.StructType(\n",
    "    [\n",
    "        types.StructField('hvfhs_license_num', types.StringType(), True),\n",
    "        types.StructField('dispatching_base_num', types.StringType(), True),\n",
    "        types.StructField('pickup_datetime', types.TimestampType(), True),\n",
    "        types.StructField('dropoff_datetime', types.TimestampType(), True),\n",
    "        types.StructField('PULocationID', types.IntegerType(), True),\n",
    "        types.StructField('DOLocationID', types.IntegerType(), True),\n",
    "        types.StructField('SR_Flag', types.StringType(), True)\n",
    "    ]\n",
    ")"
   ]
  },
  {
   "cell_type": "code",
   "execution_count": 39,
   "id": "765b60aa",
   "metadata": {},
   "outputs": [],
   "source": [
    "df = spark.read \\\n",
    "    .option(\"header\", \"true\") \\\n",
    "    .schema(schema) \\\n",
    "    .csv('fhvhv_tripdata_2021-01.csv')"
   ]
  },
  {
   "cell_type": "code",
   "execution_count": 43,
   "id": "6dc0c22a",
   "metadata": {},
   "outputs": [],
   "source": [
    "df = df.repartition(24)"
   ]
  },
  {
   "cell_type": "code",
   "execution_count": 44,
   "id": "08e0ef27",
   "metadata": {},
   "outputs": [
    {
     "name": "stderr",
     "output_type": "stream",
     "text": [
      "22/02/22 22:55:35 WARN MemoryManager: Total allocation exceeds 95.00% (1,020,054,720 bytes) of heap memory\n",
      "Scaling row group sizes to 95.00% for 8 writers\n",
      "22/02/22 22:55:37 WARN MemoryManager: Total allocation exceeds 95.00% (1,020,054,720 bytes) of heap memory\n",
      "Scaling row group sizes to 95.00% for 8 writers\n",
      "22/02/22 22:55:38 WARN MemoryManager: Total allocation exceeds 95.00% (1,020,054,720 bytes) of heap memory\n",
      "Scaling row group sizes to 95.00% for 8 writers\n",
      "22/02/22 22:55:38 WARN MemoryManager: Total allocation exceeds 95.00% (1,020,054,720 bytes) of heap memory\n",
      "Scaling row group sizes to 95.00% for 8 writers\n",
      "22/02/22 22:55:38 WARN MemoryManager: Total allocation exceeds 95.00% (1,020,054,720 bytes) of heap memory\n",
      "Scaling row group sizes to 95.00% for 8 writers\n",
      "                                                                                \r"
     ]
    }
   ],
   "source": [
    "df.write.parquet('fhvhv/2021/01')"
   ]
  },
  {
   "cell_type": "code",
   "execution_count": 45,
   "id": "c314a55c",
   "metadata": {},
   "outputs": [],
   "source": [
    "df = spark.read.parquet('fhvhv/2021/01/')"
   ]
  },
  {
   "cell_type": "code",
   "execution_count": 48,
   "id": "758a6f49",
   "metadata": {},
   "outputs": [
    {
     "name": "stdout",
     "output_type": "stream",
     "text": [
      "root\n",
      " |-- hvfhs_license_num: string (nullable = true)\n",
      " |-- dispatching_base_num: string (nullable = true)\n",
      " |-- pickup_datetime: timestamp (nullable = true)\n",
      " |-- dropoff_datetime: timestamp (nullable = true)\n",
      " |-- PULocationID: integer (nullable = true)\n",
      " |-- DOLocationID: integer (nullable = true)\n",
      " |-- SR_Flag: string (nullable = true)\n",
      "\n"
     ]
    }
   ],
   "source": [
    "df.printSchema()"
   ]
  },
  {
   "cell_type": "code",
   "execution_count": 51,
   "id": "425c110e",
   "metadata": {},
   "outputs": [
    {
     "name": "stdout",
     "output_type": "stream",
     "text": [
      "+-------------------+-------------------+------------+------------+\n",
      "|    pickup_datetime|   dropoff_datetime|PULocationID|DOLocationID|\n",
      "+-------------------+-------------------+------------+------------+\n",
      "|2021-01-03 17:09:16|2021-01-03 17:20:33|         244|          74|\n",
      "|2021-01-04 07:58:15|2021-01-04 08:13:32|         238|         237|\n",
      "|2021-01-02 13:44:12|2021-01-02 14:13:35|         121|         244|\n",
      "|2021-01-01 21:49:21|2021-01-01 21:56:11|          92|          92|\n",
      "|2021-01-01 08:44:43|2021-01-01 08:56:24|         177|          77|\n",
      "|2021-01-04 08:50:48|2021-01-04 08:59:27|          28|         215|\n",
      "|2021-01-01 02:57:50|2021-01-01 03:10:05|          91|          39|\n",
      "|2021-01-03 08:37:23|2021-01-03 08:44:19|         181|         106|\n",
      "|2021-01-04 23:17:37|2021-01-04 23:37:24|         198|         211|\n",
      "|2021-01-01 07:25:23|2021-01-01 07:37:43|          28|         132|\n",
      "|2021-01-01 14:09:55|2021-01-01 14:25:54|         185|         241|\n",
      "|2021-01-04 18:14:57|2021-01-04 18:41:20|         249|          68|\n",
      "|2021-01-04 08:07:31|2021-01-04 08:12:03|         241|          18|\n",
      "|2021-01-04 10:31:03|2021-01-04 10:57:57|         258|         226|\n",
      "|2021-01-04 13:48:03|2021-01-04 14:07:38|         241|         242|\n",
      "|2021-01-01 17:08:40|2021-01-01 17:24:00|          10|         219|\n",
      "|2021-01-01 18:07:55|2021-01-01 18:55:54|          72|         265|\n",
      "|2021-01-02 16:49:13|2021-01-02 17:14:32|          97|          89|\n",
      "|2021-01-04 21:43:22|2021-01-04 21:52:27|         244|         247|\n",
      "|2021-01-03 08:47:55|2021-01-03 08:52:38|          91|          89|\n",
      "+-------------------+-------------------+------------+------------+\n",
      "only showing top 20 rows\n",
      "\n"
     ]
    }
   ],
   "source": [
    "df.select('pickup_datetime', 'dropoff_datetime', 'PULocationID', 'DOLocationID') \\\n",
    "    .filter(df.hvfhs_license_num == 'HV0003') \\\n",
    "    .show()"
   ]
  },
  {
   "cell_type": "code",
   "execution_count": 52,
   "id": "b8d27a19",
   "metadata": {},
   "outputs": [],
   "source": [
    "from pyspark.sql import functions as F"
   ]
  },
  {
   "cell_type": "code",
   "execution_count": 53,
   "id": "2b1f3e4b",
   "metadata": {},
   "outputs": [
    {
     "name": "stdout",
     "output_type": "stream",
     "text": [
      "+-----------------+--------------------+-------------------+-------------------+------------+------------+-------+-----------+------------+\n",
      "|hvfhs_license_num|dispatching_base_num|    pickup_datetime|   dropoff_datetime|PULocationID|DOLocationID|SR_Flag|pickup_date|dropoff_date|\n",
      "+-----------------+--------------------+-------------------+-------------------+------------+------------+-------+-----------+------------+\n",
      "|           HV0003|              B02869|2021-01-03 17:09:16|2021-01-03 17:20:33|         244|          74|   null| 2021-01-03|  2021-01-03|\n",
      "|           HV0003|              B02879|2021-01-04 07:58:15|2021-01-04 08:13:32|         238|         237|   null| 2021-01-04|  2021-01-04|\n",
      "|           HV0003|              B02879|2021-01-02 13:44:12|2021-01-02 14:13:35|         121|         244|   null| 2021-01-02|  2021-01-02|\n",
      "|           HV0003|              B02872|2021-01-01 21:49:21|2021-01-01 21:56:11|          92|          92|   null| 2021-01-01|  2021-01-01|\n",
      "|           HV0003|              B02682|2021-01-01 08:44:43|2021-01-01 08:56:24|         177|          77|   null| 2021-01-01|  2021-01-01|\n",
      "|           HV0003|              B02883|2021-01-04 08:50:48|2021-01-04 08:59:27|          28|         215|   null| 2021-01-04|  2021-01-04|\n",
      "|           HV0005|              B02510|2021-01-02 18:02:38|2021-01-02 18:19:40|           3|          78|   null| 2021-01-02|  2021-01-02|\n",
      "|           HV0003|              B02884|2021-01-01 02:57:50|2021-01-01 03:10:05|          91|          39|   null| 2021-01-01|  2021-01-01|\n",
      "|           HV0005|              B02510|2021-01-01 16:29:28|2021-01-01 16:39:04|          87|         211|   null| 2021-01-01|  2021-01-01|\n",
      "|           HV0003|              B02869|2021-01-03 08:37:23|2021-01-03 08:44:19|         181|         106|   null| 2021-01-03|  2021-01-03|\n",
      "|           HV0003|              B02764|2021-01-04 23:17:37|2021-01-04 23:37:24|         198|         211|   null| 2021-01-04|  2021-01-04|\n",
      "|           HV0003|              B02888|2021-01-01 07:25:23|2021-01-01 07:37:43|          28|         132|   null| 2021-01-01|  2021-01-01|\n",
      "|           HV0003|              B02882|2021-01-01 14:09:55|2021-01-01 14:25:54|         185|         241|   null| 2021-01-01|  2021-01-01|\n",
      "|           HV0003|              B02764|2021-01-04 18:14:57|2021-01-04 18:41:20|         249|          68|   null| 2021-01-04|  2021-01-04|\n",
      "|           HV0003|              B02888|2021-01-04 08:07:31|2021-01-04 08:12:03|         241|          18|   null| 2021-01-04|  2021-01-04|\n",
      "|           HV0005|              B02510|2021-01-01 08:42:56|2021-01-01 08:48:37|         170|         107|   null| 2021-01-01|  2021-01-01|\n",
      "|           HV0003|              B02836|2021-01-04 10:31:03|2021-01-04 10:57:57|         258|         226|   null| 2021-01-04|  2021-01-04|\n",
      "|           HV0003|              B02883|2021-01-04 13:48:03|2021-01-04 14:07:38|         241|         242|   null| 2021-01-04|  2021-01-04|\n",
      "|           HV0003|              B02764|2021-01-01 17:08:40|2021-01-01 17:24:00|          10|         219|   null| 2021-01-01|  2021-01-01|\n",
      "|           HV0005|              B02510|2021-01-04 20:47:39|2021-01-04 20:55:47|         235|         235|   null| 2021-01-04|  2021-01-04|\n",
      "+-----------------+--------------------+-------------------+-------------------+------------+------------+-------+-----------+------------+\n",
      "only showing top 20 rows\n",
      "\n"
     ]
    }
   ],
   "source": [
    "df \\\n",
    "    .withColumn('pickup_date', F.to_date(df.pickup_datetime)) \\\n",
    "    .withColumn('dropoff_date', F.to_date(df.dropoff_datetime)) \\\n",
    "    .show()"
   ]
  },
  {
   "cell_type": "code",
   "execution_count": 54,
   "id": "463a0752",
   "metadata": {},
   "outputs": [
    {
     "name": "stdout",
     "output_type": "stream",
     "text": [
      "+-----------------+--------------------+-------------------+-------------------+------------+------------+-------+\n",
      "|hvfhs_license_num|dispatching_base_num|    pickup_datetime|   dropoff_datetime|PULocationID|DOLocationID|SR_Flag|\n",
      "+-----------------+--------------------+-------------------+-------------------+------------+------------+-------+\n",
      "|           HV0003|              B02869|2021-01-03 17:09:16|2021-01-03 17:20:33|         244|          74|   null|\n",
      "|           HV0003|              B02879|2021-01-04 07:58:15|2021-01-04 08:13:32|         238|         237|   null|\n",
      "|           HV0003|              B02879|2021-01-02 13:44:12|2021-01-02 14:13:35|         121|         244|   null|\n",
      "|           HV0003|              B02872|2021-01-01 21:49:21|2021-01-01 21:56:11|          92|          92|   null|\n",
      "|           HV0003|              B02682|2021-01-01 08:44:43|2021-01-01 08:56:24|         177|          77|   null|\n",
      "|           HV0003|              B02883|2021-01-04 08:50:48|2021-01-04 08:59:27|          28|         215|   null|\n",
      "|           HV0005|              B02510|2021-01-02 18:02:38|2021-01-02 18:19:40|           3|          78|   null|\n",
      "|           HV0003|              B02884|2021-01-01 02:57:50|2021-01-01 03:10:05|          91|          39|   null|\n",
      "|           HV0005|              B02510|2021-01-01 16:29:28|2021-01-01 16:39:04|          87|         211|   null|\n",
      "|           HV0003|              B02869|2021-01-03 08:37:23|2021-01-03 08:44:19|         181|         106|   null|\n",
      "|           HV0003|              B02764|2021-01-04 23:17:37|2021-01-04 23:37:24|         198|         211|   null|\n",
      "|           HV0003|              B02888|2021-01-01 07:25:23|2021-01-01 07:37:43|          28|         132|   null|\n",
      "|           HV0003|              B02882|2021-01-01 14:09:55|2021-01-01 14:25:54|         185|         241|   null|\n",
      "|           HV0003|              B02764|2021-01-04 18:14:57|2021-01-04 18:41:20|         249|          68|   null|\n",
      "|           HV0003|              B02888|2021-01-04 08:07:31|2021-01-04 08:12:03|         241|          18|   null|\n",
      "|           HV0005|              B02510|2021-01-01 08:42:56|2021-01-01 08:48:37|         170|         107|   null|\n",
      "|           HV0003|              B02836|2021-01-04 10:31:03|2021-01-04 10:57:57|         258|         226|   null|\n",
      "|           HV0003|              B02883|2021-01-04 13:48:03|2021-01-04 14:07:38|         241|         242|   null|\n",
      "|           HV0003|              B02764|2021-01-01 17:08:40|2021-01-01 17:24:00|          10|         219|   null|\n",
      "|           HV0005|              B02510|2021-01-04 20:47:39|2021-01-04 20:55:47|         235|         235|   null|\n",
      "+-----------------+--------------------+-------------------+-------------------+------------+------------+-------+\n",
      "only showing top 20 rows\n",
      "\n"
     ]
    }
   ],
   "source": [
    "df.show()"
   ]
  },
  {
   "cell_type": "code",
   "execution_count": 55,
   "id": "1ca55e33",
   "metadata": {},
   "outputs": [],
   "source": [
    "def crazy_stuff(base_num):\n",
    "    num = int(base_num[1:])\n",
    "    if num % 7 == 0:\n",
    "        return f's/{num:03x}'\n",
    "    elif num % 3 == 0:\n",
    "        return f'a/{num:03x}'\n",
    "    else:\n",
    "        return f'e/{num:03x}'"
   ]
  },
  {
   "cell_type": "code",
   "execution_count": 56,
   "id": "91c7b1d9",
   "metadata": {},
   "outputs": [
    {
     "data": {
      "text/plain": [
       "'s/b44'"
      ]
     },
     "execution_count": 56,
     "metadata": {},
     "output_type": "execute_result"
    }
   ],
   "source": [
    "crazy_stuff('B02884')"
   ]
  },
  {
   "cell_type": "code",
   "execution_count": 57,
   "id": "19fd3b49",
   "metadata": {},
   "outputs": [],
   "source": [
    "crazy_stuff_udf = F.udf(crazy_stuff, returnType=types.StringType())"
   ]
  },
  {
   "cell_type": "code",
   "execution_count": 58,
   "id": "9ad02e68",
   "metadata": {},
   "outputs": [
    {
     "name": "stdout",
     "output_type": "stream",
     "text": [
      "+-------+-----------+------------+------------+------------+\n",
      "|base_id|pickup_date|dropoff_date|PULocationID|DOLocationID|\n",
      "+-------+-----------+------------+------------+------------+\n",
      "|  e/b35| 2021-01-03|  2021-01-03|         244|          74|\n",
      "|  e/b3f| 2021-01-04|  2021-01-04|         238|         237|\n",
      "|  e/b3f| 2021-01-02|  2021-01-02|         121|         244|\n",
      "|  e/b38| 2021-01-01|  2021-01-01|          92|          92|\n",
      "|  a/a7a| 2021-01-01|  2021-01-01|         177|          77|\n",
      "|  a/b43| 2021-01-04|  2021-01-04|          28|         215|\n",
      "|  e/9ce| 2021-01-02|  2021-01-02|           3|          78|\n",
      "|  s/b44| 2021-01-01|  2021-01-01|          91|          39|\n",
      "|  e/9ce| 2021-01-01|  2021-01-01|          87|         211|\n",
      "|  e/b35| 2021-01-03|  2021-01-03|         181|         106|\n",
      "|  e/acc| 2021-01-04|  2021-01-04|         198|         211|\n",
      "|  e/b48| 2021-01-01|  2021-01-01|          28|         132|\n",
      "|  e/b42| 2021-01-01|  2021-01-01|         185|         241|\n",
      "|  e/acc| 2021-01-04|  2021-01-04|         249|          68|\n",
      "|  e/b48| 2021-01-04|  2021-01-04|         241|          18|\n",
      "|  e/9ce| 2021-01-01|  2021-01-01|         170|         107|\n",
      "|  e/b14| 2021-01-04|  2021-01-04|         258|         226|\n",
      "|  a/b43| 2021-01-04|  2021-01-04|         241|         242|\n",
      "|  e/acc| 2021-01-01|  2021-01-01|          10|         219|\n",
      "|  e/9ce| 2021-01-04|  2021-01-04|         235|         235|\n",
      "+-------+-----------+------------+------------+------------+\n",
      "only showing top 20 rows\n",
      "\n"
     ]
    }
   ],
   "source": [
    "df \\\n",
    "    .withColumn('pickup_date', F.to_date(df.pickup_datetime)) \\\n",
    "    .withColumn('dropoff_date', F.to_date(df.dropoff_datetime)) \\\n",
    "    .withColumn('base_id', crazy_stuff_udf(df.dispatching_base_num)) \\\n",
    "    .select('base_id', 'pickup_date', 'dropoff_date', 'PULocationID', 'DOLocationID') \\\n",
    "    .show()"
   ]
  }
 ],
 "metadata": {
  "kernelspec": {
   "display_name": "Python 3 (ipykernel)",
   "language": "python",
   "name": "python3"
  },
  "language_info": {
   "codemirror_mode": {
    "name": "ipython",
    "version": 3
   },
   "file_extension": ".py",
   "mimetype": "text/x-python",
   "name": "python",
   "nbconvert_exporter": "python",
   "pygments_lexer": "ipython3",
   "version": "3.9.10"
  }
 },
 "nbformat": 4,
 "nbformat_minor": 5
}
